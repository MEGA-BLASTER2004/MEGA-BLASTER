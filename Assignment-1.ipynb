{
 "cells": [
  {
   "cell_type": "markdown",
   "metadata": {},
   "source": [
    "# 5 Interesting Tensor Functions In PyTorch!"
   ]
  },
  {
   "cell_type": "markdown",
   "metadata": {},
   "source": [
    "### In this notebook i will be talking about these 5 **COOL** functions in [PyTorch](http://www.pytorch.org) -->\n"
   ]
  },
  {
   "cell_type": "markdown",
   "metadata": {},
   "source": [
    ">##### 1. `torch.eye()`\n",
    ">##### 2. `torch.unique()`\n",
    ">##### 3. `tensor.new_tensor()`\n",
    ">##### 4. `tolist()`\n",
    ">##### 5. `torch.ge()`"
   ]
  },
  {
   "cell_type": "code",
   "execution_count": 2,
   "metadata": {},
   "outputs": [],
   "source": [
    "#Importing all the necessary stuff....\n",
    "import torch"
   ]
  },
  {
   "cell_type": "markdown",
   "metadata": {},
   "source": [
    "### 1.` torch.eye()`"
   ]
  },
  {
   "cell_type": "markdown",
   "metadata": {},
   "source": [
    "#### So, i am going to begin with `torch.eye()` which is a nice function in torch.\n",
    "First of all..if you dont know about an identity matrix, Its a matrix which has 1 filled at it's diagonal and 0 everywhere else. Let me give you an example!\n",
    "\n",
    "$ I_{3} = \\begin{pmatrix} 1 & 0 & 0 \\\\ 0 & 1 & 0 \\\\ 0 & 0 & 1 \\end{pmatrix} $\n",
    "\n",
    "$I_{3}$ is an Identity matrix of order 3."
   ]
  },
  {
   "cell_type": "markdown",
   "metadata": {},
   "source": [
    "\n",
    " Basically what torch.eye() *does* is that it creates an Identity Matrix (Tensor) of the order you specify. `torch.eye(n)` takes a parameter n which is an integer!"
   ]
  },
  {
   "cell_type": "code",
   "execution_count": 29,
   "metadata": {},
   "outputs": [
    {
     "data": {
      "text/plain": [
       "tensor([[1., 0., 0.],\n",
       "        [0., 1., 0.],\n",
       "        [0., 0., 1.]])"
      ]
     },
     "execution_count": 29,
     "metadata": {},
     "output_type": "execute_result"
    }
   ],
   "source": [
    "#Example-1\n",
    "myTensor = torch.eye(3)\n",
    "myTensor"
   ]
  },
  {
   "cell_type": "markdown",
   "metadata": {},
   "source": [
    "So let's check the shape of the tensor!"
   ]
  },
  {
   "cell_type": "code",
   "execution_count": 30,
   "metadata": {},
   "outputs": [
    {
     "data": {
      "text/plain": [
       "torch.Size([3, 3])"
      ]
     },
     "execution_count": 30,
     "metadata": {},
     "output_type": "execute_result"
    }
   ],
   "source": [
    "#Shape Check\n",
    "myTensor.shape"
   ]
  },
  {
   "cell_type": "markdown",
   "metadata": {},
   "source": [
    "So, as it can be clearly seen..`torch.eye()` returns a 2-D tensor."
   ]
  },
  {
   "cell_type": "markdown",
   "metadata": {},
   "source": [
    "Now, `torch.eye(n,m)` can also take an optional argument m which specifies that how many columns you want to have in the matrix (or the tensor)\n",
    "\n",
    "**NOTE:**  The second parameter does not change the Identity matrix order, It just changes the number of columns in the tensor(matrix). It would be more clear with the example below!"
   ]
  },
  {
   "cell_type": "code",
   "execution_count": 26,
   "metadata": {},
   "outputs": [
    {
     "data": {
      "text/plain": [
       "tensor([[1., 0., 0., 0.],\n",
       "        [0., 1., 0., 0.],\n",
       "        [0., 0., 1., 0.]])"
      ]
     },
     "execution_count": 26,
     "metadata": {},
     "output_type": "execute_result"
    }
   ],
   "source": [
    "#Example-2\n",
    "myTensor2 = torch.eye(3,4)\n",
    "myTensor2"
   ]
  },
  {
   "cell_type": "code",
   "execution_count": 32,
   "metadata": {},
   "outputs": [
    {
     "data": {
      "text/plain": [
       "tensor([[1., 0., 0., 0., 0.],\n",
       "        [0., 1., 0., 0., 0.],\n",
       "        [0., 0., 1., 0., 0.]])"
      ]
     },
     "execution_count": 32,
     "metadata": {},
     "output_type": "execute_result"
    }
   ],
   "source": [
    "#Example-3\n",
    "myTensor3 = torch.eye(3,5)\n",
    "myTensor3"
   ]
  },
  {
   "cell_type": "markdown",
   "metadata": {},
   "source": [
    "Also the datatype could be changed using `dtype`"
   ]
  },
  {
   "cell_type": "code",
   "execution_count": 35,
   "metadata": {},
   "outputs": [
    {
     "data": {
      "text/plain": [
       "tensor([[1, 0, 0, 0],\n",
       "        [0, 1, 0, 0],\n",
       "        [0, 0, 1, 0],\n",
       "        [0, 0, 0, 1]], dtype=torch.int32)"
      ]
     },
     "execution_count": 35,
     "metadata": {},
     "output_type": "execute_result"
    }
   ],
   "source": [
    "#Example-4\n",
    "myTensor4 = torch.eye(4,dtype=torch.int32)\n",
    "\n",
    "myTensor4"
   ]
  },
  {
   "cell_type": "markdown",
   "metadata": {},
   "source": [
    "Now, as i said `torch.eye(n)` takes n as an argument which must be an integer. It would return an error if a float is passes as an argument. Lets have a **LOOK**!"
   ]
  },
  {
   "cell_type": "code",
   "execution_count": 36,
   "metadata": {},
   "outputs": [
    {
     "ename": "TypeError",
     "evalue": "eye(): argument 'n' (position 1) must be int, not float",
     "output_type": "error",
     "traceback": [
      "\u001b[0;31m---------------------------------------------------------------------------\u001b[0m",
      "\u001b[0;31mTypeError\u001b[0m                                 Traceback (most recent call last)",
      "\u001b[0;32m<ipython-input-36-b28f292bde0b>\u001b[0m in \u001b[0;36m<module>\u001b[0;34m\u001b[0m\n\u001b[1;32m      1\u001b[0m \u001b[0;31m#Breaks..\u001b[0m\u001b[0;34m\u001b[0m\u001b[0;34m\u001b[0m\u001b[0;34m\u001b[0m\u001b[0m\n\u001b[0;32m----> 2\u001b[0;31m \u001b[0mmyTensor5\u001b[0m \u001b[0;34m=\u001b[0m\u001b[0mtorch\u001b[0m\u001b[0;34m.\u001b[0m\u001b[0meye\u001b[0m\u001b[0;34m(\u001b[0m\u001b[0;36m4.\u001b[0m\u001b[0;34m)\u001b[0m\u001b[0;34m\u001b[0m\u001b[0;34m\u001b[0m\u001b[0m\n\u001b[0m",
      "\u001b[0;31mTypeError\u001b[0m: eye(): argument 'n' (position 1) must be int, not float"
     ]
    }
   ],
   "source": [
    "#Breaks..\n",
    "myTensor5 =torch.eye(4.)"
   ]
  },
  {
   "cell_type": "markdown",
   "metadata": {},
   "source": [
    "### 2. `torch.unique()`"
   ]
  },
  {
   "cell_type": "markdown",
   "metadata": {},
   "source": [
    "#### So, the next function which i will be talking about is simple yet interesting!"
   ]
  },
  {
   "cell_type": "markdown",
   "metadata": {},
   "source": [
    "So I hope that you all must be familiar with Sets in Mathematics.\\\n",
    "$\\{1,2,3\\}$ is a set!\n",
    "\n",
    "Also there are sets in python!\\\n",
    "`{1,2,3}`\n",
    "\n",
    "Sets can't have a value repeated more than once...\\\n",
    "For example --> $\\{1,2,3,2\\}$ is not a **SET**! as the integer 2 comes ~~once~~ *twice*!"
   ]
  },
  {
   "cell_type": "code",
   "execution_count": 108,
   "metadata": {},
   "outputs": [
    {
     "data": {
      "text/plain": [
       "{1, 2, 3, 4}"
      ]
     },
     "execution_count": 108,
     "metadata": {},
     "output_type": "execute_result"
    }
   ],
   "source": [
    "#Observe how python set contains only the unique elements!\n",
    "pyset = {1,2,3,3,4,1,1,2}\n",
    "pyset"
   ]
  },
  {
   "cell_type": "markdown",
   "metadata": {},
   "source": [
    "Similarly, `torch.unique()` returns the unique elements in a tensor! "
   ]
  },
  {
   "cell_type": "code",
   "execution_count": 106,
   "metadata": {},
   "outputs": [
    {
     "data": {
      "text/plain": [
       "tensor([1, 2, 3, 4, 5])"
      ]
     },
     "execution_count": 106,
     "metadata": {},
     "output_type": "execute_result"
    }
   ],
   "source": [
    "#Example-2\n",
    "myTensor6 = torch.tensor([1,2,3,4,4,5,2,4])\n",
    "torch.unique(myTensor6)"
   ]
  },
  {
   "cell_type": "markdown",
   "metadata": {},
   "source": [
    "As i said the function is very simple!\n",
    "* `torch.unique()` can take multi dimenional tensors also!\n"
   ]
  },
  {
   "cell_type": "code",
   "execution_count": 120,
   "metadata": {},
   "outputs": [
    {
     "data": {
      "text/plain": [
       "tensor([1, 2, 3, 4, 5])"
      ]
     },
     "execution_count": 120,
     "metadata": {},
     "output_type": "execute_result"
    }
   ],
   "source": [
    "#Example-3..\n",
    "myTensor7 = torch.tensor([[[1,2,3],[1,2,3]],[[1,2,3],[4,4,5]]])\n",
    "torch.unique(myTensor7)"
   ]
  },
  {
   "cell_type": "markdown",
   "metadata": {},
   "source": [
    "### 3.`tensor.new_tensor()`"
   ]
  },
  {
   "cell_type": "markdown",
   "metadata": {},
   "source": [
    "#### The $3^{rd}$ function is a function not related to torch...instead related to tensor!"
   ]
  },
  {
   "cell_type": "markdown",
   "metadata": {},
   "source": [
    "Ever wondered how to convert a simple list(or an array like object) into a tensor?\\\n",
    "`tensorName.new_tensor(n)` is the Solution!\n",
    "\n",
    "This function takes an argument which must be an array_like object.\n",
    "\n",
    "The argument can be =>\n",
    "* A list\n",
    "* A tuple"
   ]
  },
  {
   "cell_type": "code",
   "execution_count": 123,
   "metadata": {},
   "outputs": [
    {
     "data": {
      "text/plain": [
       "tensor([1, 2, 3, 4, 5])"
      ]
     },
     "execution_count": 123,
     "metadata": {},
     "output_type": "execute_result"
    }
   ],
   "source": [
    "#Example-1\n",
    "myList = [1,2,3,4,5]\n",
    "myTensor8 = tensor.new_tensor(myList)\n",
    "myTensor8"
   ]
  },
  {
   "cell_type": "markdown",
   "metadata": {},
   "source": [
    "This function can also take a nested list in order to make multi-dimensional tensors!"
   ]
  },
  {
   "cell_type": "code",
   "execution_count": 124,
   "metadata": {},
   "outputs": [
    {
     "data": {
      "text/plain": [
       "tensor([[1, 2, 3],\n",
       "        [4, 5, 6]])"
      ]
     },
     "execution_count": 124,
     "metadata": {},
     "output_type": "execute_result"
    }
   ],
   "source": [
    "#Example-2\n",
    "myList2 = [[1,2,3],[4,5,6]]\n",
    "myTensor9 = tensor.new_tensor(myList2)\n",
    "myTensor9"
   ]
  },
  {
   "cell_type": "markdown",
   "metadata": {},
   "source": [
    "Now lets try out this functions with tupple!"
   ]
  },
  {
   "cell_type": "code",
   "execution_count": 155,
   "metadata": {},
   "outputs": [
    {
     "name": "stdout",
     "output_type": "stream",
     "text": [
      "With Tupple -->\n",
      "tensor([1, 2, 3, 4, 5])\n",
      "----------------------------------------------------------------------------------------------------\n",
      "With Tupple(nested) -->\n",
      "tensor([[1, 2, 3],\n",
      "        [3, 4, 5]])\n"
     ]
    }
   ],
   "source": [
    "#Example-3\n",
    "myTupple = (1,2,3,4,5)\n",
    "myTupple2 = ((1,2,3),(3,4,5))\n",
    "\n",
    "myTensor10 = tensor.new_tensor(myTupple)\n",
    "myTensor11 = tensor.new_tensor(myTupple2)\n",
    "\n",
    "print(\"With Tupple -->\")\n",
    "print(myTensor10)\n",
    "print(\"-\"*100)\n",
    "print(\"With Tupple(nested) -->\")\n",
    "print(myTensor11)"
   ]
  },
  {
   "cell_type": "markdown",
   "metadata": {},
   "source": [
    "This function is also valid when you pass internested lists and tupple! "
   ]
  },
  {
   "cell_type": "code",
   "execution_count": 156,
   "metadata": {},
   "outputs": [
    {
     "name": "stdout",
     "output_type": "stream",
     "text": [
      "Tupple in List -->\n",
      "tensor([[1, 2],\n",
      "        [2, 3]])\n",
      "----------------------------------------------------------------------------------------------------\n",
      "List in Tupple -->\n",
      "tensor([[1, 2, 3],\n",
      "        [4, 5, 6]])\n",
      "----------------------------------------------------------------------------------------------------\n",
      "Tupple and List in Tupple -->\n",
      "tensor([[1, 2],\n",
      "        [3, 4]])\n"
     ]
    }
   ],
   "source": [
    "#Example-4\n",
    "myList3 = [(1,2),(2,3)]\n",
    "myTupple3 = ([1,2,3],[4,5,6])\n",
    "myList4 = [(1,2),[3,4]]\n",
    "\n",
    "myTensor12 = tensor.new_tensor(myList3)\n",
    "myTensor13 = tensor.new_tensor(myTupple3)\n",
    "myTensor14 = tensor.new_tensor(myList4)\n",
    "\n",
    "print(\"Tupple in List -->\")\n",
    "print(myTensor12)\n",
    "print(\"-\"*100)\n",
    "print(\"List in Tupple -->\")\n",
    "print(myTensor13)\n",
    "print(\"-\"*100)\n",
    "print(\"Tupple and List in Tupple -->\")\n",
    "print(myTensor14)"
   ]
  },
  {
   "cell_type": "markdown",
   "metadata": {},
   "source": [
    "**NOTE:This function is not valid if the argument is a set.**\\\n",
    "Lets test it out!"
   ]
  },
  {
   "cell_type": "code",
   "execution_count": 157,
   "metadata": {},
   "outputs": [
    {
     "ename": "TypeError",
     "evalue": "an integer is required (got type set)",
     "output_type": "error",
     "traceback": [
      "\u001b[0;31m---------------------------------------------------------------------------\u001b[0m",
      "\u001b[0;31mTypeError\u001b[0m                                 Traceback (most recent call last)",
      "\u001b[0;32m<ipython-input-157-b01a8b629158>\u001b[0m in \u001b[0;36m<module>\u001b[0;34m\u001b[0m\n\u001b[1;32m      1\u001b[0m \u001b[0;31m#breaks..\u001b[0m\u001b[0;34m\u001b[0m\u001b[0;34m\u001b[0m\u001b[0;34m\u001b[0m\u001b[0m\n\u001b[1;32m      2\u001b[0m \u001b[0mmySet\u001b[0m \u001b[0;34m=\u001b[0m \u001b[0;34m{\u001b[0m\u001b[0;36m1\u001b[0m\u001b[0;34m,\u001b[0m\u001b[0;36m2\u001b[0m\u001b[0;34m,\u001b[0m\u001b[0;36m3\u001b[0m\u001b[0;34m}\u001b[0m\u001b[0;34m\u001b[0m\u001b[0;34m\u001b[0m\u001b[0m\n\u001b[0;32m----> 3\u001b[0;31m \u001b[0mmyTensor15\u001b[0m \u001b[0;34m=\u001b[0m \u001b[0mtensor\u001b[0m\u001b[0;34m.\u001b[0m\u001b[0mnew_tensor\u001b[0m\u001b[0;34m(\u001b[0m\u001b[0mmySet\u001b[0m\u001b[0;34m)\u001b[0m\u001b[0;34m\u001b[0m\u001b[0;34m\u001b[0m\u001b[0m\n\u001b[0m\u001b[1;32m      4\u001b[0m \u001b[0mmyTensor15\u001b[0m\u001b[0;34m\u001b[0m\u001b[0;34m\u001b[0m\u001b[0m\n",
      "\u001b[0;31mTypeError\u001b[0m: an integer is required (got type set)"
     ]
    }
   ],
   "source": [
    "#breaks..\n",
    "mySet = {1,2,3}\n",
    "myTensor15 = tensor.new_tensor(mySet)\n",
    "myTensor15"
   ]
  },
  {
   "cell_type": "markdown",
   "metadata": {},
   "source": [
    "### 4.`tolist()`"
   ]
  },
  {
   "cell_type": "markdown",
   "metadata": {},
   "source": [
    "#### Now, here i have the $4^{th}$ function related to tensors!"
   ]
  },
  {
   "cell_type": "markdown",
   "metadata": {},
   "source": [
    "This function is just like the opposite of the $3^{rd}$ function which was `new_tensor()`\\\n",
    "`tensor.tolist()` returns a list! "
   ]
  },
  {
   "cell_type": "code",
   "execution_count": 173,
   "metadata": {},
   "outputs": [
    {
     "name": "stdout",
     "output_type": "stream",
     "text": [
      "The Tensor -->\n",
      "tensor([1, 2, 3, 4, 5])\n",
      "----------------------------------------------------------------------------------------------------\n",
      "Tensor to List -->\n",
      "[1, 2, 3, 4, 5]\n"
     ]
    }
   ],
   "source": [
    "#Example-1\n",
    "myTensor16 = torch.tensor([1,2,3,4,5])\n",
    "print(\"The Tensor -->\")\n",
    "print(myTensor16)\n",
    "\n",
    "print(\"-\"*100)\n",
    "\n",
    "theList = myTensor16.tolist()\n",
    "print(\"Tensor to List -->\")\n",
    "print(theList)"
   ]
  },
  {
   "cell_type": "markdown",
   "metadata": {},
   "source": [
    "`tensor.tolist()` can also work with a multi dimensional tensor by returning a nested list!"
   ]
  },
  {
   "cell_type": "code",
   "execution_count": 174,
   "metadata": {},
   "outputs": [
    {
     "name": "stdout",
     "output_type": "stream",
     "text": [
      "The Tensor -->\n",
      "tensor([[ 0.6395, -0.4398, -0.0324],\n",
      "        [ 0.4730, -0.8334,  1.1056]])\n",
      "----------------------------------------------------------------------------------------------------\n",
      "Tensor to Nested List -->\n",
      "[[0.6394500732421875, -0.4398006200790405, -0.03236221522092819], [0.47296205163002014, -0.8333988785743713, 1.105611801147461]]\n"
     ]
    }
   ],
   "source": [
    "#Example-2\n",
    "myTensor17 = torch.randn(2,3)\n",
    "print(\"The Tensor -->\")\n",
    "print(myTensor17)\n",
    "\n",
    "print(\"-\"*100)\n",
    "\n",
    "theList2 = myTensor17.tolist()\n",
    "print(\"Tensor to Nested List -->\")\n",
    "print(theList2)"
   ]
  },
  {
   "cell_type": "markdown",
   "metadata": {},
   "source": [
    "### 5.`torch.ge()`"
   ]
  },
  {
   "cell_type": "markdown",
   "metadata": {},
   "source": [
    "#### So, here i come to the last but not the least function of this notebook!"
   ]
  },
  {
   "cell_type": "markdown",
   "metadata": {},
   "source": [
    "This function compares two tensors with each other or a tensor to a scalar and returns a tensor consisting of type boolean!\n",
    "\n",
    "$Tensor =\n",
    " \\begin{pmatrix}\n",
    "  a_{1,1} & a_{1,2} & \\cdots & a_{1,n} \\\\\n",
    "  a_{2,1} & a_{2,2} & \\cdots & a_{2,n} \\\\\n",
    "  \\vdots  & \\vdots  & \\ddots & \\vdots  \\\\\n",
    "  a_{m,1} & a_{m,2} & \\cdots & a_{m,n}\n",
    " \\end{pmatrix}$\n",
    " \n",
    " `torch.ge(Tensor,1)` compares every element of Tensor matrix to the scalar argument according to the equation --> \n",
    " > $a_{m,n} \\geq scalar$\n",
    "\n"
   ]
  },
  {
   "cell_type": "code",
   "execution_count": 188,
   "metadata": {},
   "outputs": [
    {
     "data": {
      "text/plain": [
       "tensor([[False, False,  True, False],\n",
       "        [ True,  True, False, False]])"
      ]
     },
     "execution_count": 188,
     "metadata": {},
     "output_type": "execute_result"
    }
   ],
   "source": [
    "#Example-1\n",
    "myTensor18 = torch.tensor([[1,2,5,4],[12,5,2,4]])\n",
    "theBool = torch.ge(myTensor18,5)\n",
    "theBool"
   ]
  },
  {
   "cell_type": "markdown",
   "metadata": {},
   "source": [
    "Now lets try `torch.ge()` to compare two tensors!"
   ]
  },
  {
   "cell_type": "code",
   "execution_count": 189,
   "metadata": {},
   "outputs": [
    {
     "data": {
      "text/plain": [
       "tensor([[False,  True,  True,  True],\n",
       "        [False, False,  True,  True]])"
      ]
     },
     "execution_count": 189,
     "metadata": {},
     "output_type": "execute_result"
    }
   ],
   "source": [
    "#Example-2\n",
    "myTensor19 = torch.tensor([[1,6,4,2],[5,3,2,6]])\n",
    "myTensor20 = torch.tensor([[2,6,3,1],[6,4,2,3]])\n",
    "\n",
    "theBool2 = torch.ge(myTensor19,myTensor20)\n",
    "theBool2"
   ]
  }
 ],
 "metadata": {
  "kernelspec": {
   "display_name": "Python 3",
   "language": "python",
   "name": "python3"
  },
  "language_info": {
   "codemirror_mode": {
    "name": "ipython",
    "version": 3
   },
   "file_extension": ".py",
   "mimetype": "text/x-python",
   "name": "python",
   "nbconvert_exporter": "python",
   "pygments_lexer": "ipython3",
   "version": "3.7.6"
  }
 },
 "nbformat": 4,
 "nbformat_minor": 4
}
